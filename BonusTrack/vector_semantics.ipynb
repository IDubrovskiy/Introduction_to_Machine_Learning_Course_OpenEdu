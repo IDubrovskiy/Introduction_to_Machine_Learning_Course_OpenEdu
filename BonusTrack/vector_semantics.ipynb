{
 "cells": [
  {
   "cell_type": "code",
   "execution_count": 1,
   "metadata": {},
   "outputs": [],
   "source": [
    "import pandas as pd\n",
    "from sklearn.feature_extraction.text import CountVectorizer"
   ]
  },
  {
   "cell_type": "code",
   "execution_count": 2,
   "metadata": {},
   "outputs": [
    {
     "name": "stdout",
     "output_type": "stream",
     "text": [
      "['under the accord taiwan textile export growth wa limited to pct each year until taipei ha said it is losing market to south korea and hong kong which were given more generous term reuter france reute b f to launch investment certificate', 'but rafidain bank stopped paying debt due on letter of credit last march and a series of negotiation with bank and western government export credit agency ha been underway some bank have agreed to a deferrment of obligation due on letter of credit reuter taiwan reute u f taiwan central bank issue certificate of deposit', 'taipei march the central bank issued billion taiwan dlrs of certificate of deposit cd bringing the total so far this year to billion a bank official told reuters', 'under the term of the merger each liebert shareholder will receive share of emerson stock for each liebert share reuter earn f reute b f telecom proposes stock split blah blah blah earn usa reute u f cl coleco industry clc see profit in', 'sydney march australian investment group industrial equity ltd iel said it will raise mln dlrs by the issue of medium term note and commercial paper in the domestic market', 'new york feb venezuela and it bank advisory committee have agreed in principle on revision to the term of a billion dlr package signed last february banker said']\n"
     ]
    }
   ],
   "source": [
    "docs = ['under the accord taiwan textile export growth wa limited to pct each year until taipei ha said it is losing market to south korea and hong kong which were given more generous term reuter france reute b f to launch investment certificate'\n",
    ",'but rafidain bank stopped paying debt due on letter of credit last march and a series of negotiation with bank and western government export credit agency ha been underway some bank have agreed to a deferrment of obligation due on letter of credit reuter taiwan reute u f taiwan central bank issue certificate of deposit'\n",
    ",'taipei march the central bank issued billion taiwan dlrs of certificate of deposit cd bringing the total so far this year to billion a bank official told reuters'\n",
    ",'under the term of the merger each liebert shareholder will receive share of emerson stock for each liebert share reuter earn f reute b f telecom proposes stock split blah blah blah earn usa reute u f cl coleco industry clc see profit in'\n",
    ",'sydney march australian investment group industrial equity ltd iel said it will raise mln dlrs by the issue of medium term note and commercial paper in the domestic market'\n",
    ",'new york feb venezuela and it bank advisory committee have agreed in principle on revision to the term of a billion dlr package signed last february banker said']\n",
    "print(docs)"
   ]
  },
  {
   "cell_type": "code",
   "execution_count": 3,
   "metadata": {},
   "outputs": [],
   "source": [
    "vec = CountVectorizer()\n",
    "X = vec.fit_transform(docs)"
   ]
  },
  {
   "cell_type": "code",
   "execution_count": 5,
   "metadata": {},
   "outputs": [
    {
     "data": {
      "text/html": [
       "<div>\n",
       "<style scoped>\n",
       "    .dataframe tbody tr th:only-of-type {\n",
       "        vertical-align: middle;\n",
       "    }\n",
       "\n",
       "    .dataframe tbody tr th {\n",
       "        vertical-align: top;\n",
       "    }\n",
       "\n",
       "    .dataframe thead th {\n",
       "        text-align: right;\n",
       "    }\n",
       "</style>\n",
       "<table border=\"1\" class=\"dataframe\">\n",
       "  <thead>\n",
       "    <tr style=\"text-align: right;\">\n",
       "      <th></th>\n",
       "      <th>accord</th>\n",
       "      <th>advisory</th>\n",
       "      <th>agency</th>\n",
       "      <th>agreed</th>\n",
       "      <th>and</th>\n",
       "      <th>australian</th>\n",
       "      <th>bank</th>\n",
       "      <th>banker</th>\n",
       "      <th>been</th>\n",
       "      <th>billion</th>\n",
       "      <th>...</th>\n",
       "      <th>usa</th>\n",
       "      <th>venezuela</th>\n",
       "      <th>wa</th>\n",
       "      <th>were</th>\n",
       "      <th>western</th>\n",
       "      <th>which</th>\n",
       "      <th>will</th>\n",
       "      <th>with</th>\n",
       "      <th>year</th>\n",
       "      <th>york</th>\n",
       "    </tr>\n",
       "  </thead>\n",
       "  <tbody>\n",
       "    <tr>\n",
       "      <th>0</th>\n",
       "      <td>1</td>\n",
       "      <td>0</td>\n",
       "      <td>0</td>\n",
       "      <td>0</td>\n",
       "      <td>1</td>\n",
       "      <td>0</td>\n",
       "      <td>0</td>\n",
       "      <td>0</td>\n",
       "      <td>0</td>\n",
       "      <td>0</td>\n",
       "      <td>...</td>\n",
       "      <td>0</td>\n",
       "      <td>0</td>\n",
       "      <td>1</td>\n",
       "      <td>1</td>\n",
       "      <td>0</td>\n",
       "      <td>1</td>\n",
       "      <td>0</td>\n",
       "      <td>0</td>\n",
       "      <td>1</td>\n",
       "      <td>0</td>\n",
       "    </tr>\n",
       "    <tr>\n",
       "      <th>1</th>\n",
       "      <td>0</td>\n",
       "      <td>0</td>\n",
       "      <td>1</td>\n",
       "      <td>1</td>\n",
       "      <td>2</td>\n",
       "      <td>0</td>\n",
       "      <td>4</td>\n",
       "      <td>0</td>\n",
       "      <td>1</td>\n",
       "      <td>0</td>\n",
       "      <td>...</td>\n",
       "      <td>0</td>\n",
       "      <td>0</td>\n",
       "      <td>0</td>\n",
       "      <td>0</td>\n",
       "      <td>1</td>\n",
       "      <td>0</td>\n",
       "      <td>0</td>\n",
       "      <td>1</td>\n",
       "      <td>0</td>\n",
       "      <td>0</td>\n",
       "    </tr>\n",
       "    <tr>\n",
       "      <th>2</th>\n",
       "      <td>0</td>\n",
       "      <td>0</td>\n",
       "      <td>0</td>\n",
       "      <td>0</td>\n",
       "      <td>0</td>\n",
       "      <td>0</td>\n",
       "      <td>2</td>\n",
       "      <td>0</td>\n",
       "      <td>0</td>\n",
       "      <td>2</td>\n",
       "      <td>...</td>\n",
       "      <td>0</td>\n",
       "      <td>0</td>\n",
       "      <td>0</td>\n",
       "      <td>0</td>\n",
       "      <td>0</td>\n",
       "      <td>0</td>\n",
       "      <td>0</td>\n",
       "      <td>0</td>\n",
       "      <td>1</td>\n",
       "      <td>0</td>\n",
       "    </tr>\n",
       "    <tr>\n",
       "      <th>3</th>\n",
       "      <td>0</td>\n",
       "      <td>0</td>\n",
       "      <td>0</td>\n",
       "      <td>0</td>\n",
       "      <td>0</td>\n",
       "      <td>0</td>\n",
       "      <td>0</td>\n",
       "      <td>0</td>\n",
       "      <td>0</td>\n",
       "      <td>0</td>\n",
       "      <td>...</td>\n",
       "      <td>1</td>\n",
       "      <td>0</td>\n",
       "      <td>0</td>\n",
       "      <td>0</td>\n",
       "      <td>0</td>\n",
       "      <td>0</td>\n",
       "      <td>1</td>\n",
       "      <td>0</td>\n",
       "      <td>0</td>\n",
       "      <td>0</td>\n",
       "    </tr>\n",
       "    <tr>\n",
       "      <th>4</th>\n",
       "      <td>0</td>\n",
       "      <td>0</td>\n",
       "      <td>0</td>\n",
       "      <td>0</td>\n",
       "      <td>1</td>\n",
       "      <td>1</td>\n",
       "      <td>0</td>\n",
       "      <td>0</td>\n",
       "      <td>0</td>\n",
       "      <td>0</td>\n",
       "      <td>...</td>\n",
       "      <td>0</td>\n",
       "      <td>0</td>\n",
       "      <td>0</td>\n",
       "      <td>0</td>\n",
       "      <td>0</td>\n",
       "      <td>0</td>\n",
       "      <td>1</td>\n",
       "      <td>0</td>\n",
       "      <td>0</td>\n",
       "      <td>0</td>\n",
       "    </tr>\n",
       "  </tbody>\n",
       "</table>\n",
       "<p>5 rows × 129 columns</p>\n",
       "</div>"
      ],
      "text/plain": [
       "   accord  advisory  agency  agreed  and  australian  bank  banker  been  \\\n",
       "0       1         0       0       0    1           0     0       0     0   \n",
       "1       0         0       1       1    2           0     4       0     1   \n",
       "2       0         0       0       0    0           0     2       0     0   \n",
       "3       0         0       0       0    0           0     0       0     0   \n",
       "4       0         0       0       0    1           1     0       0     0   \n",
       "\n",
       "   billion  ...  usa  venezuela  wa  were  western  which  will  with  year  \\\n",
       "0        0  ...    0          0   1     1        0      1     0     0     1   \n",
       "1        0  ...    0          0   0     0        1      0     0     1     0   \n",
       "2        2  ...    0          0   0     0        0      0     0     0     1   \n",
       "3        0  ...    1          0   0     0        0      0     1     0     0   \n",
       "4        0  ...    0          0   0     0        0      0     1     0     0   \n",
       "\n",
       "   york  \n",
       "0     0  \n",
       "1     0  \n",
       "2     0  \n",
       "3     0  \n",
       "4     0  \n",
       "\n",
       "[5 rows x 129 columns]"
      ]
     },
     "execution_count": 5,
     "metadata": {},
     "output_type": "execute_result"
    }
   ],
   "source": [
    "df = pd.DataFrame(X.toarray(), columns=vec.get_feature_names_out())\n",
    "df.head()"
   ]
  },
  {
   "cell_type": "code",
   "execution_count": 22,
   "metadata": {},
   "outputs": [],
   "source": [
    "a = [1,1,1,0,0,0]\n",
    "b = [1,1,1,0,0,0]"
   ]
  },
  {
   "cell_type": "code",
   "execution_count": 23,
   "metadata": {},
   "outputs": [],
   "source": [
    "from scipy import spatial\n",
    "\n",
    "result = spatial.distance.cosine(a, b)"
   ]
  },
  {
   "cell_type": "code",
   "execution_count": 24,
   "metadata": {},
   "outputs": [
    {
     "data": {
      "text/plain": [
       "0"
      ]
     },
     "execution_count": 24,
     "metadata": {},
     "output_type": "execute_result"
    }
   ],
   "source": [
    "result"
   ]
  },
  {
   "cell_type": "code",
   "execution_count": 18,
   "metadata": {},
   "outputs": [],
   "source": [
    "from numpy import dot\n",
    "from numpy.linalg import norm\n",
    "\n",
    "cos_sim = dot(a, b)/(norm(a)*norm(b))"
   ]
  },
  {
   "cell_type": "code",
   "execution_count": 19,
   "metadata": {},
   "outputs": [
    {
     "data": {
      "text/plain": [
       "0.2886751345948129"
      ]
     },
     "execution_count": 19,
     "metadata": {},
     "output_type": "execute_result"
    }
   ],
   "source": [
    "cos_sim"
   ]
  },
  {
   "cell_type": "code",
   "execution_count": 10,
   "metadata": {},
   "outputs": [
    {
     "data": {
      "text/plain": [
       "0    1\n",
       "1    0\n",
       "2    0\n",
       "3    1\n",
       "4    1\n",
       "5    1\n",
       "Name: term, dtype: int64"
      ]
     },
     "execution_count": 10,
     "metadata": {},
     "output_type": "execute_result"
    }
   ],
   "source": [
    "df.term"
   ]
  }
 ],
 "metadata": {
  "kernelspec": {
   "display_name": "tf",
   "language": "python",
   "name": "python3"
  },
  "language_info": {
   "codemirror_mode": {
    "name": "ipython",
    "version": 3
   },
   "file_extension": ".py",
   "mimetype": "text/x-python",
   "name": "python",
   "nbconvert_exporter": "python",
   "pygments_lexer": "ipython3",
   "version": "3.9.16"
  },
  "orig_nbformat": 4
 },
 "nbformat": 4,
 "nbformat_minor": 2
}
